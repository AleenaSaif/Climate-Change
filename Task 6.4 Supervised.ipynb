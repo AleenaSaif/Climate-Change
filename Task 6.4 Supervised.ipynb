{
 "cells": [
  {
   "cell_type": "markdown",
   "id": "70043c17",
   "metadata": {},
   "source": [
    "## Supervised Machine Learning: Regression\n",
    "\n",
    "### Contents:\n",
    "\n",
    "#### 1. Importing libraries and data\n",
    "#### 2. Data cleaning\n",
    "#### 3. Data prep for regression analysis\n",
    "#### 4. Regression analysis"
   ]
  },
  {
   "cell_type": "markdown",
   "id": "ce3b3679",
   "metadata": {},
   "source": [
    "### Import Libraries & Dataset"
   ]
  },
  {
   "cell_type": "code",
   "execution_count": 85,
   "id": "54c5d716",
   "metadata": {},
   "outputs": [],
   "source": [
    "import pandas as pd\n",
    "import numpy as np\n",
    "import seaborn as sns\n",
    "import matplotlib\n",
    "import matplotlib.pyplot as plt\n",
    "import os\n",
    "import sklearn\n",
    "from sklearn.model_selection import train_test_split \n",
    "from sklearn.linear_model import LinearRegression\n",
    "from sklearn.metrics import mean_squared_error, r2_score"
   ]
  },
  {
   "cell_type": "code",
   "execution_count": 86,
   "id": "b9e5f612",
   "metadata": {},
   "outputs": [],
   "source": [
    "# This option ensures that the graphs you create are displayed within the notebook without the need to \"call\" them specifically.\n",
    "\n",
    "%matplotlib inline"
   ]
  },
  {
   "cell_type": "code",
   "execution_count": 87,
   "id": "8eeb8a53",
   "metadata": {},
   "outputs": [],
   "source": [
    "# Creating path to import dataset\n",
    "\n",
    "path = r'C:\\Users\\aleen\\OneDrive\\Desktop\\Aleena\\CF assignments\\Data Immersion\\Achievement 6\\Climate Change\\ClimateChange'"
   ]
  },
  {
   "cell_type": "code",
   "execution_count": 120,
   "id": "2ac31746",
   "metadata": {},
   "outputs": [],
   "source": [
    "# Importing dataset climate_clean as df_climate\n",
    "\n",
    "df =  pd.read_csv(os.path.join(path, 'climate_change.csv'), index_col = False)"
   ]
  },
  {
   "cell_type": "markdown",
   "id": "0fb69c39",
   "metadata": {},
   "source": [
    "### Data Cleaning"
   ]
  },
  {
   "cell_type": "code",
   "execution_count": 105,
   "id": "80f916de",
   "metadata": {},
   "outputs": [
    {
     "data": {
      "text/plain": [
       "Index(['Unnamed: 0', 'country_name', 'months', 'year', 'temp_change'], dtype='object')"
      ]
     },
     "execution_count": 105,
     "metadata": {},
     "output_type": "execute_result"
    }
   ],
   "source": [
    "df.columns"
   ]
  },
  {
   "cell_type": "code",
   "execution_count": 106,
   "id": "0a2e5470",
   "metadata": {},
   "outputs": [
    {
     "data": {
      "text/html": [
       "<div>\n",
       "<style scoped>\n",
       "    .dataframe tbody tr th:only-of-type {\n",
       "        vertical-align: middle;\n",
       "    }\n",
       "\n",
       "    .dataframe tbody tr th {\n",
       "        vertical-align: top;\n",
       "    }\n",
       "\n",
       "    .dataframe thead th {\n",
       "        text-align: right;\n",
       "    }\n",
       "</style>\n",
       "<table border=\"1\" class=\"dataframe\">\n",
       "  <thead>\n",
       "    <tr style=\"text-align: right;\">\n",
       "      <th></th>\n",
       "      <th>Unnamed: 0</th>\n",
       "      <th>country_name</th>\n",
       "      <th>months</th>\n",
       "      <th>year</th>\n",
       "      <th>temp_change</th>\n",
       "    </tr>\n",
       "  </thead>\n",
       "  <tbody>\n",
       "    <tr>\n",
       "      <th>0</th>\n",
       "      <td>0</td>\n",
       "      <td>Afghanistan</td>\n",
       "      <td>January</td>\n",
       "      <td>1961</td>\n",
       "      <td>0.777</td>\n",
       "    </tr>\n",
       "    <tr>\n",
       "      <th>1</th>\n",
       "      <td>1</td>\n",
       "      <td>Afghanistan</td>\n",
       "      <td>February</td>\n",
       "      <td>1961</td>\n",
       "      <td>-1.743</td>\n",
       "    </tr>\n",
       "    <tr>\n",
       "      <th>2</th>\n",
       "      <td>2</td>\n",
       "      <td>Afghanistan</td>\n",
       "      <td>March</td>\n",
       "      <td>1961</td>\n",
       "      <td>0.516</td>\n",
       "    </tr>\n",
       "    <tr>\n",
       "      <th>3</th>\n",
       "      <td>3</td>\n",
       "      <td>Afghanistan</td>\n",
       "      <td>April</td>\n",
       "      <td>1961</td>\n",
       "      <td>-1.709</td>\n",
       "    </tr>\n",
       "    <tr>\n",
       "      <th>4</th>\n",
       "      <td>4</td>\n",
       "      <td>Afghanistan</td>\n",
       "      <td>May</td>\n",
       "      <td>1961</td>\n",
       "      <td>1.412</td>\n",
       "    </tr>\n",
       "    <tr>\n",
       "      <th>5</th>\n",
       "      <td>5</td>\n",
       "      <td>Afghanistan</td>\n",
       "      <td>June</td>\n",
       "      <td>1961</td>\n",
       "      <td>-0.058</td>\n",
       "    </tr>\n",
       "    <tr>\n",
       "      <th>6</th>\n",
       "      <td>6</td>\n",
       "      <td>Afghanistan</td>\n",
       "      <td>July</td>\n",
       "      <td>1961</td>\n",
       "      <td>0.884</td>\n",
       "    </tr>\n",
       "    <tr>\n",
       "      <th>7</th>\n",
       "      <td>7</td>\n",
       "      <td>Afghanistan</td>\n",
       "      <td>August</td>\n",
       "      <td>1961</td>\n",
       "      <td>0.391</td>\n",
       "    </tr>\n",
       "    <tr>\n",
       "      <th>8</th>\n",
       "      <td>8</td>\n",
       "      <td>Afghanistan</td>\n",
       "      <td>September</td>\n",
       "      <td>1961</td>\n",
       "      <td>1.445</td>\n",
       "    </tr>\n",
       "    <tr>\n",
       "      <th>9</th>\n",
       "      <td>9</td>\n",
       "      <td>Afghanistan</td>\n",
       "      <td>October</td>\n",
       "      <td>1961</td>\n",
       "      <td>-1.102</td>\n",
       "    </tr>\n",
       "    <tr>\n",
       "      <th>10</th>\n",
       "      <td>10</td>\n",
       "      <td>Afghanistan</td>\n",
       "      <td>November</td>\n",
       "      <td>1961</td>\n",
       "      <td>-0.540</td>\n",
       "    </tr>\n",
       "    <tr>\n",
       "      <th>11</th>\n",
       "      <td>11</td>\n",
       "      <td>Afghanistan</td>\n",
       "      <td>December</td>\n",
       "      <td>1961</td>\n",
       "      <td>0.600</td>\n",
       "    </tr>\n",
       "    <tr>\n",
       "      <th>12</th>\n",
       "      <td>12</td>\n",
       "      <td>Afghanistan</td>\n",
       "      <td>Winter</td>\n",
       "      <td>1961</td>\n",
       "      <td>-0.731</td>\n",
       "    </tr>\n",
       "    <tr>\n",
       "      <th>13</th>\n",
       "      <td>13</td>\n",
       "      <td>Afghanistan</td>\n",
       "      <td>Spring</td>\n",
       "      <td>1961</td>\n",
       "      <td>0.073</td>\n",
       "    </tr>\n",
       "    <tr>\n",
       "      <th>14</th>\n",
       "      <td>14</td>\n",
       "      <td>Afghanistan</td>\n",
       "      <td>Summer</td>\n",
       "      <td>1961</td>\n",
       "      <td>0.406</td>\n",
       "    </tr>\n",
       "    <tr>\n",
       "      <th>15</th>\n",
       "      <td>15</td>\n",
       "      <td>Afghanistan</td>\n",
       "      <td>Fall</td>\n",
       "      <td>1961</td>\n",
       "      <td>-0.066</td>\n",
       "    </tr>\n",
       "    <tr>\n",
       "      <th>16</th>\n",
       "      <td>16</td>\n",
       "      <td>Afghanistan</td>\n",
       "      <td>Meteorological year</td>\n",
       "      <td>1961</td>\n",
       "      <td>-0.080</td>\n",
       "    </tr>\n",
       "    <tr>\n",
       "      <th>17</th>\n",
       "      <td>17</td>\n",
       "      <td>Albania</td>\n",
       "      <td>January</td>\n",
       "      <td>1961</td>\n",
       "      <td>0.180</td>\n",
       "    </tr>\n",
       "    <tr>\n",
       "      <th>18</th>\n",
       "      <td>18</td>\n",
       "      <td>Albania</td>\n",
       "      <td>February</td>\n",
       "      <td>1961</td>\n",
       "      <td>-0.625</td>\n",
       "    </tr>\n",
       "    <tr>\n",
       "      <th>19</th>\n",
       "      <td>19</td>\n",
       "      <td>Albania</td>\n",
       "      <td>March</td>\n",
       "      <td>1961</td>\n",
       "      <td>0.995</td>\n",
       "    </tr>\n",
       "  </tbody>\n",
       "</table>\n",
       "</div>"
      ],
      "text/plain": [
       "    Unnamed: 0 country_name               months  year  temp_change\n",
       "0            0  Afghanistan              January  1961        0.777\n",
       "1            1  Afghanistan             February  1961       -1.743\n",
       "2            2  Afghanistan                March  1961        0.516\n",
       "3            3  Afghanistan                April  1961       -1.709\n",
       "4            4  Afghanistan                  May  1961        1.412\n",
       "5            5  Afghanistan                 June  1961       -0.058\n",
       "6            6  Afghanistan                 July  1961        0.884\n",
       "7            7  Afghanistan               August  1961        0.391\n",
       "8            8  Afghanistan            September  1961        1.445\n",
       "9            9  Afghanistan              October  1961       -1.102\n",
       "10          10  Afghanistan             November  1961       -0.540\n",
       "11          11  Afghanistan             December  1961        0.600\n",
       "12          12  Afghanistan               Winter  1961       -0.731\n",
       "13          13  Afghanistan               Spring  1961        0.073\n",
       "14          14  Afghanistan               Summer  1961        0.406\n",
       "15          15  Afghanistan                 Fall  1961       -0.066\n",
       "16          16  Afghanistan  Meteorological year  1961       -0.080\n",
       "17          17      Albania              January  1961        0.180\n",
       "18          18      Albania             February  1961       -0.625\n",
       "19          19      Albania                March  1961        0.995"
      ]
     },
     "execution_count": 106,
     "metadata": {},
     "output_type": "execute_result"
    }
   ],
   "source": [
    "df.head(20)"
   ]
  },
  {
   "cell_type": "code",
   "execution_count": 107,
   "id": "dd76de9a",
   "metadata": {},
   "outputs": [
    {
     "data": {
      "text/plain": [
       "(284852, 5)"
      ]
     },
     "execution_count": 107,
     "metadata": {},
     "output_type": "execute_result"
    }
   ],
   "source": [
    "df.shape"
   ]
  },
  {
   "cell_type": "markdown",
   "id": "8200f8e6",
   "metadata": {},
   "source": [
    "#### Check for Missing values"
   ]
  },
  {
   "cell_type": "code",
   "execution_count": 108,
   "id": "e2376392",
   "metadata": {
    "scrolled": true
   },
   "outputs": [
    {
     "data": {
      "text/plain": [
       "Unnamed: 0      0\n",
       "country_name    0\n",
       "months          0\n",
       "year            0\n",
       "temp_change     0\n",
       "dtype: int64"
      ]
     },
     "execution_count": 108,
     "metadata": {},
     "output_type": "execute_result"
    }
   ],
   "source": [
    "# Check for missing values\n",
    "\n",
    "df.isnull().sum()"
   ]
  },
  {
   "cell_type": "markdown",
   "id": "ea4b5056",
   "metadata": {},
   "source": [
    "No missing data found"
   ]
  },
  {
   "cell_type": "markdown",
   "id": "6ab07582",
   "metadata": {},
   "source": [
    "#### Check for Duplicates"
   ]
  },
  {
   "cell_type": "code",
   "execution_count": 109,
   "id": "118a210e",
   "metadata": {},
   "outputs": [],
   "source": [
    "# Check for duplicates\n",
    "\n",
    "dups = df.duplicated()"
   ]
  },
  {
   "cell_type": "code",
   "execution_count": 110,
   "id": "bfd17311",
   "metadata": {},
   "outputs": [
    {
     "data": {
      "text/plain": [
       "(284852,)"
      ]
     },
     "execution_count": 110,
     "metadata": {},
     "output_type": "execute_result"
    }
   ],
   "source": [
    "dups.shape"
   ]
  },
  {
   "cell_type": "markdown",
   "id": "9865dcad",
   "metadata": {},
   "source": [
    "No duplicates found"
   ]
  },
  {
   "cell_type": "markdown",
   "id": "eb6fd739",
   "metadata": {},
   "source": [
    "#### Extreme Values Check"
   ]
  },
  {
   "cell_type": "code",
   "execution_count": 95,
   "id": "3e7ff5fe",
   "metadata": {
    "scrolled": false
   },
   "outputs": [
    {
     "name": "stderr",
     "output_type": "stream",
     "text": [
      "C:\\Users\\aleen\\AppData\\Local\\Temp\\ipykernel_33772\\322020864.py:3: UserWarning: \n",
      "\n",
      "`distplot` is a deprecated function and will be removed in seaborn v0.14.0.\n",
      "\n",
      "Please adapt your code to use either `displot` (a figure-level function with\n",
      "similar flexibility) or `histplot` (an axes-level function for histograms).\n",
      "\n",
      "For a guide to updating your code to use the new functions, please see\n",
      "https://gist.github.com/mwaskom/de44147ed2974457ad6372750bbe5751\n",
      "\n",
      "  sns.distplot(df['temp_change'], bins=25)\n"
     ]
    },
    {
     "data": {
      "text/plain": [
       "<Axes: xlabel='temp_change', ylabel='Density'>"
      ]
     },
     "execution_count": 95,
     "metadata": {},
     "output_type": "execute_result"
    },
    {
     "data": {
      "image/png": "[encoded data removed]",
      "text/plain": [
       "<Figure size 640x480 with 1 Axes>"
      ]
     },
     "metadata": {},
     "output_type": "display_data"
    }
   ],
   "source": [
    "# Shows extreme values\n",
    "\n",
    "sns.distplot(df['temp_change'], bins=25)"
   ]
  },
  {
   "cell_type": "code",
   "execution_count": 96,
   "id": "4af96c35",
   "metadata": {},
   "outputs": [
    {
     "data": {
      "text/plain": [
       "0.4707916651270913"
      ]
     },
     "execution_count": 96,
     "metadata": {},
     "output_type": "execute_result"
    }
   ],
   "source": [
    "# Check the mean\n",
    "\n",
    "df['temp_change'].mean()"
   ]
  },
  {
   "cell_type": "code",
   "execution_count": 97,
   "id": "181fb5ee",
   "metadata": {},
   "outputs": [
    {
     "data": {
      "text/plain": [
       "0.382"
      ]
     },
     "execution_count": 97,
     "metadata": {},
     "output_type": "execute_result"
    }
   ],
   "source": [
    "# Check the median\n",
    "\n",
    "df['temp_change'].median()"
   ]
  },
  {
   "cell_type": "code",
   "execution_count": 98,
   "id": "f74d9617",
   "metadata": {},
   "outputs": [
    {
     "data": {
      "text/plain": [
       "11.759"
      ]
     },
     "execution_count": 98,
     "metadata": {},
     "output_type": "execute_result"
    }
   ],
   "source": [
    "# Check the max\n",
    "\n",
    "df['temp_change'].max()"
   ]
  },
  {
   "cell_type": "markdown",
   "id": "c4aab0fc",
   "metadata": {},
   "source": [
    "### Data Prep for Regression Analysis"
   ]
  },
  {
   "cell_type": "code",
   "execution_count": 136,
   "id": "36d49732",
   "metadata": {},
   "outputs": [],
   "source": [
    "df_1 = df[df[\"months\"].isin(['Spring', 'Fall', 'Winter', 'Summer'])]"
   ]
  },
  {
   "cell_type": "code",
   "execution_count": 137,
   "id": "1d644e55",
   "metadata": {},
   "outputs": [
    {
     "data": {
      "text/html": [
       "<div>\n",
       "<style scoped>\n",
       "    .dataframe tbody tr th:only-of-type {\n",
       "        vertical-align: middle;\n",
       "    }\n",
       "\n",
       "    .dataframe tbody tr th {\n",
       "        vertical-align: top;\n",
       "    }\n",
       "\n",
       "    .dataframe thead th {\n",
       "        text-align: right;\n",
       "    }\n",
       "</style>\n",
       "<table border=\"1\" class=\"dataframe\">\n",
       "  <thead>\n",
       "    <tr style=\"text-align: right;\">\n",
       "      <th></th>\n",
       "      <th>Unnamed: 0</th>\n",
       "      <th>country_name</th>\n",
       "      <th>months</th>\n",
       "      <th>year</th>\n",
       "      <th>temp_change</th>\n",
       "    </tr>\n",
       "  </thead>\n",
       "  <tbody>\n",
       "    <tr>\n",
       "      <th>12</th>\n",
       "      <td>12</td>\n",
       "      <td>Afghanistan</td>\n",
       "      <td>Winter</td>\n",
       "      <td>1961</td>\n",
       "      <td>-0.731</td>\n",
       "    </tr>\n",
       "    <tr>\n",
       "      <th>13</th>\n",
       "      <td>13</td>\n",
       "      <td>Afghanistan</td>\n",
       "      <td>Spring</td>\n",
       "      <td>1961</td>\n",
       "      <td>0.073</td>\n",
       "    </tr>\n",
       "    <tr>\n",
       "      <th>14</th>\n",
       "      <td>14</td>\n",
       "      <td>Afghanistan</td>\n",
       "      <td>Summer</td>\n",
       "      <td>1961</td>\n",
       "      <td>0.406</td>\n",
       "    </tr>\n",
       "    <tr>\n",
       "      <th>15</th>\n",
       "      <td>15</td>\n",
       "      <td>Afghanistan</td>\n",
       "      <td>Fall</td>\n",
       "      <td>1961</td>\n",
       "      <td>-0.066</td>\n",
       "    </tr>\n",
       "    <tr>\n",
       "      <th>29</th>\n",
       "      <td>29</td>\n",
       "      <td>Albania</td>\n",
       "      <td>Winter</td>\n",
       "      <td>1961</td>\n",
       "      <td>0.638</td>\n",
       "    </tr>\n",
       "    <tr>\n",
       "      <th>30</th>\n",
       "      <td>30</td>\n",
       "      <td>Albania</td>\n",
       "      <td>Spring</td>\n",
       "      <td>1961</td>\n",
       "      <td>0.964</td>\n",
       "    </tr>\n",
       "    <tr>\n",
       "      <th>31</th>\n",
       "      <td>31</td>\n",
       "      <td>Albania</td>\n",
       "      <td>Summer</td>\n",
       "      <td>1961</td>\n",
       "      <td>-0.108</td>\n",
       "    </tr>\n",
       "    <tr>\n",
       "      <th>32</th>\n",
       "      <td>32</td>\n",
       "      <td>Albania</td>\n",
       "      <td>Fall</td>\n",
       "      <td>1961</td>\n",
       "      <td>1.030</td>\n",
       "    </tr>\n",
       "    <tr>\n",
       "      <th>46</th>\n",
       "      <td>46</td>\n",
       "      <td>Algeria</td>\n",
       "      <td>Winter</td>\n",
       "      <td>1961</td>\n",
       "      <td>-0.631</td>\n",
       "    </tr>\n",
       "    <tr>\n",
       "      <th>47</th>\n",
       "      <td>47</td>\n",
       "      <td>Algeria</td>\n",
       "      <td>Spring</td>\n",
       "      <td>1961</td>\n",
       "      <td>0.844</td>\n",
       "    </tr>\n",
       "    <tr>\n",
       "      <th>48</th>\n",
       "      <td>48</td>\n",
       "      <td>Algeria</td>\n",
       "      <td>Summer</td>\n",
       "      <td>1961</td>\n",
       "      <td>-0.136</td>\n",
       "    </tr>\n",
       "    <tr>\n",
       "      <th>49</th>\n",
       "      <td>49</td>\n",
       "      <td>Algeria</td>\n",
       "      <td>Fall</td>\n",
       "      <td>1961</td>\n",
       "      <td>0.667</td>\n",
       "    </tr>\n",
       "    <tr>\n",
       "      <th>63</th>\n",
       "      <td>63</td>\n",
       "      <td>American Samoa</td>\n",
       "      <td>Winter</td>\n",
       "      <td>1961</td>\n",
       "      <td>0.379</td>\n",
       "    </tr>\n",
       "    <tr>\n",
       "      <th>64</th>\n",
       "      <td>64</td>\n",
       "      <td>American Samoa</td>\n",
       "      <td>Spring</td>\n",
       "      <td>1961</td>\n",
       "      <td>-0.210</td>\n",
       "    </tr>\n",
       "    <tr>\n",
       "      <th>65</th>\n",
       "      <td>65</td>\n",
       "      <td>American Samoa</td>\n",
       "      <td>Summer</td>\n",
       "      <td>1961</td>\n",
       "      <td>-0.092</td>\n",
       "    </tr>\n",
       "    <tr>\n",
       "      <th>66</th>\n",
       "      <td>66</td>\n",
       "      <td>American Samoa</td>\n",
       "      <td>Fall</td>\n",
       "      <td>1961</td>\n",
       "      <td>-0.132</td>\n",
       "    </tr>\n",
       "    <tr>\n",
       "      <th>80</th>\n",
       "      <td>80</td>\n",
       "      <td>Andorra</td>\n",
       "      <td>Winter</td>\n",
       "      <td>1961</td>\n",
       "      <td>0.304</td>\n",
       "    </tr>\n",
       "    <tr>\n",
       "      <th>81</th>\n",
       "      <td>81</td>\n",
       "      <td>Andorra</td>\n",
       "      <td>Spring</td>\n",
       "      <td>1961</td>\n",
       "      <td>1.530</td>\n",
       "    </tr>\n",
       "    <tr>\n",
       "      <th>82</th>\n",
       "      <td>82</td>\n",
       "      <td>Andorra</td>\n",
       "      <td>Summer</td>\n",
       "      <td>1961</td>\n",
       "      <td>0.208</td>\n",
       "    </tr>\n",
       "    <tr>\n",
       "      <th>83</th>\n",
       "      <td>83</td>\n",
       "      <td>Andorra</td>\n",
       "      <td>Fall</td>\n",
       "      <td>1961</td>\n",
       "      <td>0.954</td>\n",
       "    </tr>\n",
       "  </tbody>\n",
       "</table>\n",
       "</div>"
      ],
      "text/plain": [
       "    Unnamed: 0    country_name  months  year  temp_change\n",
       "12          12     Afghanistan  Winter  1961       -0.731\n",
       "13          13     Afghanistan  Spring  1961        0.073\n",
       "14          14     Afghanistan  Summer  1961        0.406\n",
       "15          15     Afghanistan    Fall  1961       -0.066\n",
       "29          29         Albania  Winter  1961        0.638\n",
       "30          30         Albania  Spring  1961        0.964\n",
       "31          31         Albania  Summer  1961       -0.108\n",
       "32          32         Albania    Fall  1961        1.030\n",
       "46          46         Algeria  Winter  1961       -0.631\n",
       "47          47         Algeria  Spring  1961        0.844\n",
       "48          48         Algeria  Summer  1961       -0.136\n",
       "49          49         Algeria    Fall  1961        0.667\n",
       "63          63  American Samoa  Winter  1961        0.379\n",
       "64          64  American Samoa  Spring  1961       -0.210\n",
       "65          65  American Samoa  Summer  1961       -0.092\n",
       "66          66  American Samoa    Fall  1961       -0.132\n",
       "80          80         Andorra  Winter  1961        0.304\n",
       "81          81         Andorra  Spring  1961        1.530\n",
       "82          82         Andorra  Summer  1961        0.208\n",
       "83          83         Andorra    Fall  1961        0.954"
      ]
     },
     "execution_count": 137,
     "metadata": {},
     "output_type": "execute_result"
    }
   ],
   "source": [
    "df_1.head(20)"
   ]
  },
  {
   "cell_type": "code",
   "execution_count": 138,
   "id": "792b5b2f",
   "metadata": {},
   "outputs": [],
   "source": [
    "df_2 = df_1.groupby(['country_name'])"
   ]
  },
  {
   "cell_type": "code",
   "execution_count": 143,
   "id": "ce4c27b4",
   "metadata": {},
   "outputs": [
    {
     "data": {
      "text/html": [
       "<div>\n",
       "<style scoped>\n",
       "    .dataframe tbody tr th:only-of-type {\n",
       "        vertical-align: middle;\n",
       "    }\n",
       "\n",
       "    .dataframe tbody tr th {\n",
       "        vertical-align: top;\n",
       "    }\n",
       "\n",
       "    .dataframe thead th {\n",
       "        text-align: right;\n",
       "    }\n",
       "</style>\n",
       "<table border=\"1\" class=\"dataframe\">\n",
       "  <thead>\n",
       "    <tr style=\"text-align: right;\">\n",
       "      <th></th>\n",
       "      <th>Unnamed: 0</th>\n",
       "      <th>country_name</th>\n",
       "      <th>months</th>\n",
       "      <th>year</th>\n",
       "      <th>temp_change</th>\n",
       "    </tr>\n",
       "  </thead>\n",
       "  <tbody>\n",
       "    <tr>\n",
       "      <th>12</th>\n",
       "      <td>12</td>\n",
       "      <td>Afghanistan</td>\n",
       "      <td>Winter</td>\n",
       "      <td>1961</td>\n",
       "      <td>-0.731</td>\n",
       "    </tr>\n",
       "    <tr>\n",
       "      <th>13</th>\n",
       "      <td>13</td>\n",
       "      <td>Afghanistan</td>\n",
       "      <td>Spring</td>\n",
       "      <td>1961</td>\n",
       "      <td>0.073</td>\n",
       "    </tr>\n",
       "    <tr>\n",
       "      <th>14</th>\n",
       "      <td>14</td>\n",
       "      <td>Afghanistan</td>\n",
       "      <td>Summer</td>\n",
       "      <td>1961</td>\n",
       "      <td>0.406</td>\n",
       "    </tr>\n",
       "    <tr>\n",
       "      <th>15</th>\n",
       "      <td>15</td>\n",
       "      <td>Afghanistan</td>\n",
       "      <td>Fall</td>\n",
       "      <td>1961</td>\n",
       "      <td>-0.066</td>\n",
       "    </tr>\n",
       "    <tr>\n",
       "      <th>29</th>\n",
       "      <td>29</td>\n",
       "      <td>Albania</td>\n",
       "      <td>Winter</td>\n",
       "      <td>1961</td>\n",
       "      <td>0.638</td>\n",
       "    </tr>\n",
       "    <tr>\n",
       "      <th>...</th>\n",
       "      <td>...</td>\n",
       "      <td>...</td>\n",
       "      <td>...</td>\n",
       "      <td>...</td>\n",
       "      <td>...</td>\n",
       "    </tr>\n",
       "    <tr>\n",
       "      <th>24121</th>\n",
       "      <td>24121</td>\n",
       "      <td>Non-Annex I countries</td>\n",
       "      <td>Fall</td>\n",
       "      <td>1965</td>\n",
       "      <td>0.062</td>\n",
       "    </tr>\n",
       "    <tr>\n",
       "      <th>24135</th>\n",
       "      <td>24135</td>\n",
       "      <td>OECD</td>\n",
       "      <td>Winter</td>\n",
       "      <td>1965</td>\n",
       "      <td>-0.732</td>\n",
       "    </tr>\n",
       "    <tr>\n",
       "      <th>24136</th>\n",
       "      <td>24136</td>\n",
       "      <td>OECD</td>\n",
       "      <td>Spring</td>\n",
       "      <td>1965</td>\n",
       "      <td>-0.110</td>\n",
       "    </tr>\n",
       "    <tr>\n",
       "      <th>24137</th>\n",
       "      <td>24137</td>\n",
       "      <td>OECD</td>\n",
       "      <td>Summer</td>\n",
       "      <td>1965</td>\n",
       "      <td>-0.495</td>\n",
       "    </tr>\n",
       "    <tr>\n",
       "      <th>24138</th>\n",
       "      <td>24138</td>\n",
       "      <td>OECD</td>\n",
       "      <td>Fall</td>\n",
       "      <td>1965</td>\n",
       "      <td>-0.203</td>\n",
       "    </tr>\n",
       "  </tbody>\n",
       "</table>\n",
       "<p>5680 rows × 5 columns</p>\n",
       "</div>"
      ],
      "text/plain": [
       "       Unnamed: 0           country_name  months  year  temp_change\n",
       "12             12            Afghanistan  Winter  1961       -0.731\n",
       "13             13            Afghanistan  Spring  1961        0.073\n",
       "14             14            Afghanistan  Summer  1961        0.406\n",
       "15             15            Afghanistan    Fall  1961       -0.066\n",
       "29             29                Albania  Winter  1961        0.638\n",
       "...           ...                    ...     ...   ...          ...\n",
       "24121       24121  Non-Annex I countries    Fall  1965        0.062\n",
       "24135       24135                   OECD  Winter  1965       -0.732\n",
       "24136       24136                   OECD  Spring  1965       -0.110\n",
       "24137       24137                   OECD  Summer  1965       -0.495\n",
       "24138       24138                   OECD    Fall  1965       -0.203\n",
       "\n",
       "[5680 rows x 5 columns]"
      ]
     },
     "execution_count": 143,
     "metadata": {},
     "output_type": "execute_result"
    }
   ],
   "source": [
    "df_2.head(20)"
   ]
  },
  {
   "cell_type": "code",
   "execution_count": 145,
   "id": "b735b6d2",
   "metadata": {},
   "outputs": [],
   "source": [
    "df_3 = df_1.groupby(['months'])"
   ]
  },
  {
   "cell_type": "code",
   "execution_count": 146,
   "id": "e583fda1",
   "metadata": {},
   "outputs": [
    {
     "data": {
      "text/html": [
       "<div>\n",
       "<style scoped>\n",
       "    .dataframe tbody tr th:only-of-type {\n",
       "        vertical-align: middle;\n",
       "    }\n",
       "\n",
       "    .dataframe tbody tr th {\n",
       "        vertical-align: top;\n",
       "    }\n",
       "\n",
       "    .dataframe thead th {\n",
       "        text-align: right;\n",
       "    }\n",
       "</style>\n",
       "<table border=\"1\" class=\"dataframe\">\n",
       "  <thead>\n",
       "    <tr style=\"text-align: right;\">\n",
       "      <th></th>\n",
       "      <th>Unnamed: 0</th>\n",
       "      <th>country_name</th>\n",
       "      <th>months</th>\n",
       "      <th>year</th>\n",
       "      <th>temp_change</th>\n",
       "    </tr>\n",
       "  </thead>\n",
       "  <tbody>\n",
       "    <tr>\n",
       "      <th>12</th>\n",
       "      <td>12</td>\n",
       "      <td>Afghanistan</td>\n",
       "      <td>Winter</td>\n",
       "      <td>1961</td>\n",
       "      <td>-0.731000</td>\n",
       "    </tr>\n",
       "    <tr>\n",
       "      <th>13</th>\n",
       "      <td>13</td>\n",
       "      <td>Afghanistan</td>\n",
       "      <td>Spring</td>\n",
       "      <td>1961</td>\n",
       "      <td>0.073000</td>\n",
       "    </tr>\n",
       "    <tr>\n",
       "      <th>14</th>\n",
       "      <td>14</td>\n",
       "      <td>Afghanistan</td>\n",
       "      <td>Summer</td>\n",
       "      <td>1961</td>\n",
       "      <td>0.406000</td>\n",
       "    </tr>\n",
       "    <tr>\n",
       "      <th>15</th>\n",
       "      <td>15</td>\n",
       "      <td>Afghanistan</td>\n",
       "      <td>Fall</td>\n",
       "      <td>1961</td>\n",
       "      <td>-0.066000</td>\n",
       "    </tr>\n",
       "    <tr>\n",
       "      <th>29</th>\n",
       "      <td>29</td>\n",
       "      <td>Albania</td>\n",
       "      <td>Winter</td>\n",
       "      <td>1961</td>\n",
       "      <td>0.638000</td>\n",
       "    </tr>\n",
       "    <tr>\n",
       "      <th>...</th>\n",
       "      <td>...</td>\n",
       "      <td>...</td>\n",
       "      <td>...</td>\n",
       "      <td>...</td>\n",
       "      <td>...</td>\n",
       "    </tr>\n",
       "    <tr>\n",
       "      <th>321</th>\n",
       "      <td>321</td>\n",
       "      <td>Barbados</td>\n",
       "      <td>Fall</td>\n",
       "      <td>1961</td>\n",
       "      <td>0.000000</td>\n",
       "    </tr>\n",
       "    <tr>\n",
       "      <th>335</th>\n",
       "      <td>335</td>\n",
       "      <td>Belarus</td>\n",
       "      <td>Winter</td>\n",
       "      <td>1961</td>\n",
       "      <td>0.144488</td>\n",
       "    </tr>\n",
       "    <tr>\n",
       "      <th>336</th>\n",
       "      <td>336</td>\n",
       "      <td>Belarus</td>\n",
       "      <td>Spring</td>\n",
       "      <td>1961</td>\n",
       "      <td>0.144488</td>\n",
       "    </tr>\n",
       "    <tr>\n",
       "      <th>337</th>\n",
       "      <td>337</td>\n",
       "      <td>Belarus</td>\n",
       "      <td>Summer</td>\n",
       "      <td>1961</td>\n",
       "      <td>0.144488</td>\n",
       "    </tr>\n",
       "    <tr>\n",
       "      <th>338</th>\n",
       "      <td>338</td>\n",
       "      <td>Belarus</td>\n",
       "      <td>Fall</td>\n",
       "      <td>1961</td>\n",
       "      <td>0.144488</td>\n",
       "    </tr>\n",
       "  </tbody>\n",
       "</table>\n",
       "<p>80 rows × 5 columns</p>\n",
       "</div>"
      ],
      "text/plain": [
       "     Unnamed: 0 country_name  months  year  temp_change\n",
       "12           12  Afghanistan  Winter  1961    -0.731000\n",
       "13           13  Afghanistan  Spring  1961     0.073000\n",
       "14           14  Afghanistan  Summer  1961     0.406000\n",
       "15           15  Afghanistan    Fall  1961    -0.066000\n",
       "29           29      Albania  Winter  1961     0.638000\n",
       "..          ...          ...     ...   ...          ...\n",
       "321         321     Barbados    Fall  1961     0.000000\n",
       "335         335      Belarus  Winter  1961     0.144488\n",
       "336         336      Belarus  Spring  1961     0.144488\n",
       "337         337      Belarus  Summer  1961     0.144488\n",
       "338         338      Belarus    Fall  1961     0.144488\n",
       "\n",
       "[80 rows x 5 columns]"
      ]
     },
     "execution_count": 146,
     "metadata": {},
     "output_type": "execute_result"
    }
   ],
   "source": [
    "df_3.head(20)"
   ]
  },
  {
   "cell_type": "markdown",
   "id": "e9ff1765",
   "metadata": {},
   "source": [
    "#### Creating Scatter Plot"
   ]
  },
  {
   "cell_type": "code",
   "execution_count": 147,
   "id": "143a3d0a",
   "metadata": {},
   "outputs": [
    {
     "data": {
      "image/png": "[encoded data removed]",
      "text/plain": [
       "<Figure size 640x480 with 1 Axes>"
      ]
     },
     "metadata": {},
     "output_type": "display_data"
    },
    {
     "data": {
      "image/png": "[encoded data removed]",
      "text/plain": [
       "<Figure size 640x480 with 1 Axes>"
      ]
     },
     "metadata": {},
     "output_type": "display_data"
    },
    {
     "data": {
      "image/png": "[encoded data removed]",
      "text/plain": [
       "<Figure size 640x480 with 1 Axes>"
      ]
     },
     "metadata": {},
     "output_type": "display_data"
    },
    {
     "data": {
      "image/png": "[encoded data removed]",
      "text/plain": [
       "<Figure size 640x480 with 1 Axes>"
      ]
     },
     "metadata": {},
     "output_type": "display_data"
    }
   ],
   "source": [
    "# Create a scatterplot using matplotlib for another look at how the chosen variables plot against each other.\n",
    "\n",
    "df_3.plot(x = 'months', y='temp_change') # The style option creates a scatterplot; without it, we only have lines.\n",
    "plt.title('Temperature Change During Different Season')  \n",
    "plt.xlabel('Seasons')  \n",
    "plt.ylabel('temp_change')  \n",
    "plt.show()"
   ]
  },
  {
   "cell_type": "code",
   "execution_count": 164,
   "id": "60e79e2e",
   "metadata": {},
   "outputs": [],
   "source": [
    "# Reshape the variables into NumPy arrays and put them into separate objects.\n",
    "\n",
    "X = df['year'].values.reshape(-1,1)\n",
    "y = df['temp_change'].values.reshape(-1,1)"
   ]
  },
  {
   "cell_type": "code",
   "execution_count": 165,
   "id": "2afb27ea",
   "metadata": {},
   "outputs": [
    {
     "data": {
      "text/plain": [
       "array([[1961],\n",
       "       [1961],\n",
       "       [1961],\n",
       "       ...,\n",
       "       [2019],\n",
       "       [2019],\n",
       "       [2019]], dtype=int64)"
      ]
     },
     "execution_count": 165,
     "metadata": {},
     "output_type": "execute_result"
    }
   ],
   "source": [
    "X"
   ]
  },
  {
   "cell_type": "code",
   "execution_count": 166,
   "id": "047e8531",
   "metadata": {},
   "outputs": [
    {
     "data": {
      "text/plain": [
       "array([[ 0.777],\n",
       "       [-1.743],\n",
       "       [ 0.516],\n",
       "       ...,\n",
       "       [ 1.078],\n",
       "       [ 1.233],\n",
       "       [ 1.297]])"
      ]
     },
     "execution_count": 166,
     "metadata": {},
     "output_type": "execute_result"
    }
   ],
   "source": [
    "y"
   ]
  },
  {
   "cell_type": "code",
   "execution_count": 167,
   "id": "b6a81d2f",
   "metadata": {},
   "outputs": [],
   "source": [
    "# Split data into a training set and a test set.\n",
    "\n",
    "X_train, X_test, y_train, y_test = train_test_split(X, y, test_size=0.3, random_state=0)"
   ]
  },
  {
   "cell_type": "markdown",
   "id": "acf80164",
   "metadata": {},
   "source": [
    "### Regression Analysis"
   ]
  },
  {
   "cell_type": "code",
   "execution_count": 168,
   "id": "c494ec97",
   "metadata": {},
   "outputs": [],
   "source": [
    "# Create a regression object.\n",
    "\n",
    "regression = LinearRegression()  # This is the regression object, which will be fit onto the training set."
   ]
  },
  {
   "cell_type": "code",
   "execution_count": 169,
   "id": "1ac67456",
   "metadata": {
    "scrolled": true
   },
   "outputs": [
    {
     "data": {
      "text/html": [
       "<style>#sk-container-id-1 {color: black;background-color: white;}#sk-container-id-1 pre{padding: 0;}#sk-container-id-1 div.sk-toggleable {background-color: white;}#sk-container-id-1 label.sk-toggleable__label {cursor: pointer;display: block;width: 100%;margin-bottom: 0;padding: 0.3em;box-sizing: border-box;text-align: center;}#sk-container-id-1 label.sk-toggleable__label-arrow:before {content: \"▸\";float: left;margin-right: 0.25em;color: #696969;}#sk-container-id-1 label.sk-toggleable__label-arrow:hover:before {color: black;}#sk-container-id-1 div.sk-estimator:hover label.sk-toggleable__label-arrow:before {color: black;}#sk-container-id-1 div.sk-toggleable__content {max-height: 0;max-width: 0;overflow: hidden;text-align: left;background-color: #f0f8ff;}#sk-container-id-1 div.sk-toggleable__content pre {margin: 0.2em;color: black;border-radius: 0.25em;background-color: #f0f8ff;}#sk-container-id-1 input.sk-toggleable__control:checked~div.sk-toggleable__content {max-height: 200px;max-width: 100%;overflow: auto;}#sk-container-id-1 input.sk-toggleable__control:checked~label.sk-toggleable__label-arrow:before {content: \"▾\";}#sk-container-id-1 div.sk-estimator input.sk-toggleable__control:checked~label.sk-toggleable__label {background-color: #d4ebff;}#sk-container-id-1 div.sk-label input.sk-toggleable__control:checked~label.sk-toggleable__label {background-color: #d4ebff;}#sk-container-id-1 input.sk-hidden--visually {border: 0;clip: rect(1px 1px 1px 1px);clip: rect(1px, 1px, 1px, 1px);height: 1px;margin: -1px;overflow: hidden;padding: 0;position: absolute;width: 1px;}#sk-container-id-1 div.sk-estimator {font-family: monospace;background-color: #f0f8ff;border: 1px dotted black;border-radius: 0.25em;box-sizing: border-box;margin-bottom: 0.5em;}#sk-container-id-1 div.sk-estimator:hover {background-color: #d4ebff;}#sk-container-id-1 div.sk-parallel-item::after {content: \"\";width: 100%;border-bottom: 1px solid gray;flex-grow: 1;}#sk-container-id-1 div.sk-label:hover label.sk-toggleable__label {background-color: #d4ebff;}#sk-container-id-1 div.sk-serial::before {content: \"\";position: absolute;border-left: 1px solid gray;box-sizing: border-box;top: 0;bottom: 0;left: 50%;z-index: 0;}#sk-container-id-1 div.sk-serial {display: flex;flex-direction: column;align-items: center;background-color: white;padding-right: 0.2em;padding-left: 0.2em;position: relative;}#sk-container-id-1 div.sk-item {position: relative;z-index: 1;}#sk-container-id-1 div.sk-parallel {display: flex;align-items: stretch;justify-content: center;background-color: white;position: relative;}#sk-container-id-1 div.sk-item::before, #sk-container-id-1 div.sk-parallel-item::before {content: \"\";position: absolute;border-left: 1px solid gray;box-sizing: border-box;top: 0;bottom: 0;left: 50%;z-index: -1;}#sk-container-id-1 div.sk-parallel-item {display: flex;flex-direction: column;z-index: 1;position: relative;background-color: white;}#sk-container-id-1 div.sk-parallel-item:first-child::after {align-self: flex-end;width: 50%;}#sk-container-id-1 div.sk-parallel-item:last-child::after {align-self: flex-start;width: 50%;}#sk-container-id-1 div.sk-parallel-item:only-child::after {width: 0;}#sk-container-id-1 div.sk-dashed-wrapped {border: 1px dashed gray;margin: 0 0.4em 0.5em 0.4em;box-sizing: border-box;padding-bottom: 0.4em;background-color: white;}#sk-container-id-1 div.sk-label label {font-family: monospace;font-weight: bold;display: inline-block;line-height: 1.2em;}#sk-container-id-1 div.sk-label-container {text-align: center;}#sk-container-id-1 div.sk-container {/* jupyter's `normalize.less` sets `[hidden] { display: none; }` but bootstrap.min.css set `[hidden] { display: none !important; }` so we also need the `!important` here to be able to override the default hidden behavior on the sphinx rendered scikit-learn.org. See: https://github.com/scikit-learn/scikit-learn/issues/21755 */display: inline-block !important;position: relative;}#sk-container-id-1 div.sk-text-repr-fallback {display: none;}</style><div id=\"sk-container-id-1\" class=\"sk-top-container\"><div class=\"sk-text-repr-fallback\"><pre>LinearRegression()</pre><b>In a Jupyter environment, please rerun this cell to show the HTML representation or trust the notebook. <br />On GitHub, the HTML representation is unable to render, please try loading this page with nbviewer.org.</b></div><div class=\"sk-container\" hidden><div class=\"sk-item\"><div class=\"sk-estimator sk-toggleable\"><input class=\"sk-toggleable__control sk-hidden--visually\" id=\"sk-estimator-id-1\" type=\"checkbox\" checked><label for=\"sk-estimator-id-1\" class=\"sk-toggleable__label sk-toggleable__label-arrow\">LinearRegression</label><div class=\"sk-toggleable__content\"><pre>LinearRegression()</pre></div></div></div></div></div>"
      ],
      "text/plain": [
       "LinearRegression()"
      ]
     },
     "execution_count": 169,
     "metadata": {},
     "output_type": "execute_result"
    }
   ],
   "source": [
    "# Fit the regression object onto the training set.\n",
    "\n",
    "regression.fit(X_train, y_train)"
   ]
  },
  {
   "cell_type": "code",
   "execution_count": 170,
   "id": "a0bd54c3",
   "metadata": {},
   "outputs": [],
   "source": [
    "# Predict the values of y using X.\n",
    "\n",
    "y_predicted = regression.predict(X_test)"
   ]
  },
  {
   "cell_type": "code",
   "execution_count": 172,
   "id": "9ab973ea",
   "metadata": {},
   "outputs": [
    {
     "data": {
      "image/png": "[encoded data removed]",
      "text/plain": [
       "<Figure size 640x480 with 1 Axes>"
      ]
     },
     "metadata": {},
     "output_type": "display_data"
    }
   ],
   "source": [
    "# Create a plot that shows the regression line from the model on the test set.\n",
    "\n",
    "plot_test = plt\n",
    "plot_test.scatter(X_test, y_test, color='gray', s = 15)\n",
    "plot_test.plot(X_test, y_predicted, color='red', linewidth =3)\n",
    "plot_test.title('Temperature Change During Different Season (Test set)')\n",
    "plot_test.xlabel('year')\n",
    "plot_test.ylabel('temp_change')\n",
    "plot_test.show()"
   ]
  },
  {
   "cell_type": "code",
   "execution_count": 173,
   "id": "3e585e52",
   "metadata": {},
   "outputs": [],
   "source": [
    "# Create objects that contain the model summary statistics.\n",
    "\n",
    "rmse = mean_squared_error(y_test, y_predicted) # This is the mean squared error\n",
    "r2 = r2_score(y_test, y_predicted) # This is the R2 score. "
   ]
  },
  {
   "cell_type": "code",
   "execution_count": 174,
   "id": "eb0473f7",
   "metadata": {},
   "outputs": [
    {
     "name": "stdout",
     "output_type": "stream",
     "text": [
      "Slope: [[0.02595078]]\n",
      "Mean squared error:  0.7328758820505855\n",
      "R2 score:  0.21204444836222724\n"
     ]
    }
   ],
   "source": [
    "# Print the model summary statistics. This is where you evaluate the performance of the model.\n",
    "\n",
    "print('Slope:' ,regression.coef_)\n",
    "print('Mean squared error: ', rmse)\n",
    "print('R2 score: ', r2)"
   ]
  },
  {
   "cell_type": "code",
   "execution_count": 175,
   "id": "e4859674",
   "metadata": {},
   "outputs": [
    {
     "data": {
      "text/plain": [
       "array([[ 0.7043816 ],\n",
       "       [ 0.75628316],\n",
       "       [ 0.44487379],\n",
       "       ...,\n",
       "       [ 0.41892301],\n",
       "       [-0.12604338],\n",
       "       [ 0.65248004]])"
      ]
     },
     "execution_count": 175,
     "metadata": {},
     "output_type": "execute_result"
    }
   ],
   "source": [
    "y_predicted"
   ]
  },
  {
   "cell_type": "code",
   "execution_count": 176,
   "id": "43db8c96",
   "metadata": {},
   "outputs": [
    {
     "data": {
      "text/html": [
       "<div>\n",
       "<style scoped>\n",
       "    .dataframe tbody tr th:only-of-type {\n",
       "        vertical-align: middle;\n",
       "    }\n",
       "\n",
       "    .dataframe tbody tr th {\n",
       "        vertical-align: top;\n",
       "    }\n",
       "\n",
       "    .dataframe thead th {\n",
       "        text-align: right;\n",
       "    }\n",
       "</style>\n",
       "<table border=\"1\" class=\"dataframe\">\n",
       "  <thead>\n",
       "    <tr style=\"text-align: right;\">\n",
       "      <th></th>\n",
       "      <th>Actual</th>\n",
       "      <th>Predicted</th>\n",
       "    </tr>\n",
       "  </thead>\n",
       "  <tbody>\n",
       "    <tr>\n",
       "      <th>0</th>\n",
       "      <td>0.306000</td>\n",
       "      <td>0.704382</td>\n",
       "    </tr>\n",
       "    <tr>\n",
       "      <th>1</th>\n",
       "      <td>0.505000</td>\n",
       "      <td>0.756283</td>\n",
       "    </tr>\n",
       "    <tr>\n",
       "      <th>2</th>\n",
       "      <td>-0.923000</td>\n",
       "      <td>0.444874</td>\n",
       "    </tr>\n",
       "    <tr>\n",
       "      <th>3</th>\n",
       "      <td>0.581593</td>\n",
       "      <td>0.470825</td>\n",
       "    </tr>\n",
       "    <tr>\n",
       "      <th>4</th>\n",
       "      <td>1.728000</td>\n",
       "      <td>0.782234</td>\n",
       "    </tr>\n",
       "    <tr>\n",
       "      <th>5</th>\n",
       "      <td>0.515000</td>\n",
       "      <td>1.067693</td>\n",
       "    </tr>\n",
       "    <tr>\n",
       "      <th>6</th>\n",
       "      <td>1.443926</td>\n",
       "      <td>1.145545</td>\n",
       "    </tr>\n",
       "    <tr>\n",
       "      <th>7</th>\n",
       "      <td>1.364000</td>\n",
       "      <td>1.119594</td>\n",
       "    </tr>\n",
       "    <tr>\n",
       "      <th>8</th>\n",
       "      <td>2.982000</td>\n",
       "      <td>-0.281748</td>\n",
       "    </tr>\n",
       "    <tr>\n",
       "      <th>9</th>\n",
       "      <td>0.599000</td>\n",
       "      <td>0.003711</td>\n",
       "    </tr>\n",
       "    <tr>\n",
       "      <th>10</th>\n",
       "      <td>1.177000</td>\n",
       "      <td>1.067693</td>\n",
       "    </tr>\n",
       "    <tr>\n",
       "      <th>11</th>\n",
       "      <td>2.180000</td>\n",
       "      <td>0.911988</td>\n",
       "    </tr>\n",
       "    <tr>\n",
       "      <th>12</th>\n",
       "      <td>1.099000</td>\n",
       "      <td>1.067693</td>\n",
       "    </tr>\n",
       "    <tr>\n",
       "      <th>13</th>\n",
       "      <td>0.241494</td>\n",
       "      <td>0.548677</td>\n",
       "    </tr>\n",
       "    <tr>\n",
       "      <th>14</th>\n",
       "      <td>0.597000</td>\n",
       "      <td>0.470825</td>\n",
       "    </tr>\n",
       "    <tr>\n",
       "      <th>15</th>\n",
       "      <td>1.246000</td>\n",
       "      <td>1.067693</td>\n",
       "    </tr>\n",
       "    <tr>\n",
       "      <th>16</th>\n",
       "      <td>-0.049000</td>\n",
       "      <td>0.211317</td>\n",
       "    </tr>\n",
       "    <tr>\n",
       "      <th>17</th>\n",
       "      <td>1.013000</td>\n",
       "      <td>0.315120</td>\n",
       "    </tr>\n",
       "    <tr>\n",
       "      <th>18</th>\n",
       "      <td>1.009000</td>\n",
       "      <td>0.834136</td>\n",
       "    </tr>\n",
       "    <tr>\n",
       "      <th>19</th>\n",
       "      <td>0.099000</td>\n",
       "      <td>-0.255797</td>\n",
       "    </tr>\n",
       "    <tr>\n",
       "      <th>20</th>\n",
       "      <td>1.326988</td>\n",
       "      <td>1.119594</td>\n",
       "    </tr>\n",
       "    <tr>\n",
       "      <th>21</th>\n",
       "      <td>0.680000</td>\n",
       "      <td>0.574628</td>\n",
       "    </tr>\n",
       "    <tr>\n",
       "      <th>22</th>\n",
       "      <td>-0.530000</td>\n",
       "      <td>-0.048191</td>\n",
       "    </tr>\n",
       "    <tr>\n",
       "      <th>23</th>\n",
       "      <td>0.153391</td>\n",
       "      <td>0.263218</td>\n",
       "    </tr>\n",
       "    <tr>\n",
       "      <th>24</th>\n",
       "      <td>1.895000</td>\n",
       "      <td>1.223397</td>\n",
       "    </tr>\n",
       "    <tr>\n",
       "      <th>25</th>\n",
       "      <td>0.019000</td>\n",
       "      <td>-0.255797</td>\n",
       "    </tr>\n",
       "    <tr>\n",
       "      <th>26</th>\n",
       "      <td>0.726000</td>\n",
       "      <td>0.574628</td>\n",
       "    </tr>\n",
       "    <tr>\n",
       "      <th>27</th>\n",
       "      <td>1.059000</td>\n",
       "      <td>0.652480</td>\n",
       "    </tr>\n",
       "    <tr>\n",
       "      <th>28</th>\n",
       "      <td>-1.011000</td>\n",
       "      <td>-0.255797</td>\n",
       "    </tr>\n",
       "    <tr>\n",
       "      <th>29</th>\n",
       "      <td>0.082000</td>\n",
       "      <td>0.860086</td>\n",
       "    </tr>\n",
       "  </tbody>\n",
       "</table>\n",
       "</div>"
      ],
      "text/plain": [
       "      Actual  Predicted\n",
       "0   0.306000   0.704382\n",
       "1   0.505000   0.756283\n",
       "2  -0.923000   0.444874\n",
       "3   0.581593   0.470825\n",
       "4   1.728000   0.782234\n",
       "5   0.515000   1.067693\n",
       "6   1.443926   1.145545\n",
       "7   1.364000   1.119594\n",
       "8   2.982000  -0.281748\n",
       "9   0.599000   0.003711\n",
       "10  1.177000   1.067693\n",
       "11  2.180000   0.911988\n",
       "12  1.099000   1.067693\n",
       "13  0.241494   0.548677\n",
       "14  0.597000   0.470825\n",
       "15  1.246000   1.067693\n",
       "16 -0.049000   0.211317\n",
       "17  1.013000   0.315120\n",
       "18  1.009000   0.834136\n",
       "19  0.099000  -0.255797\n",
       "20  1.326988   1.119594\n",
       "21  0.680000   0.574628\n",
       "22 -0.530000  -0.048191\n",
       "23  0.153391   0.263218\n",
       "24  1.895000   1.223397\n",
       "25  0.019000  -0.255797\n",
       "26  0.726000   0.574628\n",
       "27  1.059000   0.652480\n",
       "28 -1.011000  -0.255797\n",
       "29  0.082000   0.860086"
      ]
     },
     "execution_count": 176,
     "metadata": {},
     "output_type": "execute_result"
    }
   ],
   "source": [
    "# Create a dataframe comparing the actual and predicted values of y.\n",
    "\n",
    "data = pd.DataFrame({'Actual': y_test.flatten(), 'Predicted': y_predicted.flatten()})\n",
    "data.head(30)"
   ]
  },
  {
   "cell_type": "markdown",
   "id": "ff0f4651",
   "metadata": {},
   "source": [
    "### Compare how the regression fits the training set"
   ]
  },
  {
   "cell_type": "code",
   "execution_count": 177,
   "id": "ba2990aa",
   "metadata": {},
   "outputs": [],
   "source": [
    "# Predict.\n",
    "\n",
    "y_predicted_train = regression.predict(X_train) # This is predicting X_train!"
   ]
  },
  {
   "cell_type": "code",
   "execution_count": 178,
   "id": "946e7b54",
   "metadata": {},
   "outputs": [],
   "source": [
    "rmse = mean_squared_error(y_train, y_predicted_train)\n",
    "r2 = r2_score(y_train, y_predicted_train)"
   ]
  },
  {
   "cell_type": "code",
   "execution_count": 179,
   "id": "f3b31d90",
   "metadata": {},
   "outputs": [
    {
     "name": "stdout",
     "output_type": "stream",
     "text": [
      "Slope: [[0.02595078]]\n",
      "Mean squared error:  0.7232815481881587\n",
      "R2 score:  0.21250867774024518\n"
     ]
    }
   ],
   "source": [
    "print('Slope:' ,regression.coef_)\n",
    "print('Mean squared error: ', rmse)\n",
    "print('R2 score: ', r2)"
   ]
  },
  {
   "cell_type": "code",
   "execution_count": 181,
   "id": "020bf877",
   "metadata": {},
   "outputs": [
    {
     "data": {
      "image/png": "[encoded data removed]",
      "text/plain": [
       "<Figure size 640x480 with 1 Axes>"
      ]
     },
     "metadata": {},
     "output_type": "display_data"
    }
   ],
   "source": [
    "# Visualizing the training set results.\n",
    "\n",
    "plot_test = plt\n",
    "plot_test.scatter(X_train, y_train, color='green', s = 15)\n",
    "plot_test.plot(X_train, y_predicted_train, color='red', linewidth =3)\n",
    "plot_test.title('Temperature Change During Different Season (Train set)')\n",
    "plot_test.xlabel('year')\n",
    "plot_test.ylabel('temp_change')\n",
    "plot_test.show()"
   ]
  }
 ],
 "metadata": {
  "kernelspec": {
   "display_name": "Python 3 (ipykernel)",
   "language": "python",
   "name": "python3"
  },
  "language_info": {
   "codemirror_mode": {
    "name": "ipython",
    "version": 3
   },
   "file_extension": ".py",
   "mimetype": "text/x-python",
   "name": "python",
   "nbconvert_exporter": "python",
   "pygments_lexer": "ipython3",
   "version": "3.10.9"
  }
 },
 "nbformat": 4,
 "nbformat_minor": 5
}
